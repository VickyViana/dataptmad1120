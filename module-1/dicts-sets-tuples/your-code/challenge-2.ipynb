{
 "cells": [
  {
   "cell_type": "markdown",
   "metadata": {},
   "source": [
    "## Challenge 2: Sets\n",
    "\n",
    "There are a lot to learn about Python Sets and the information presented in the lesson is limited due to its length. To learn Python Sets in depth you are strongly encouraged to review the W3Schools tutorial on [Python Sets Examples and Methods](https://www.w3schools.com/python/python_sets.asp) before you work on this lab. Some difficult questions in this lab have their solutions in the W3Schools tutorial.\n",
    "\n",
    "#### First, import the Python `random` library."
   ]
  },
  {
   "cell_type": "code",
   "execution_count": 96,
   "metadata": {},
   "outputs": [],
   "source": [
    "import random"
   ]
  },
  {
   "cell_type": "markdown",
   "metadata": {},
   "source": [
    "#### In the cell below, create a list named `sample_list_1` with 80 random values. \n",
    "\n",
    "Requirements:\n",
    "\n",
    "* Each value is an integer falling between 0 and 100.\n",
    "* Each value in the list is unique.\n",
    "\n",
    "Print `sample_list_1` to review its values\n",
    "\n",
    "*Hint: use `random.sample` ([reference](https://docs.python.org/3/library/random.html#random.sample)).*"
   ]
  },
  {
   "cell_type": "code",
   "execution_count": 97,
   "metadata": {},
   "outputs": [
    {
     "name": "stdout",
     "output_type": "stream",
     "text": [
      "[80, 99, 9, 12, 77, 23, 81, 39, 75, 59, 70, 36, 26, 91, 73, 72, 29, 41, 84, 74, 61, 87, 50, 71, 3, 24, 45, 38, 66, 27, 94, 57, 0, 6, 34, 88, 78, 92, 10, 86, 11, 8, 43, 4, 49, 42, 18, 67, 40, 16, 5, 25, 46, 68, 58, 55, 98, 28, 79, 63, 35, 97, 60, 1, 2, 69, 90, 44, 17, 51, 96, 31, 62, 53, 93, 56, 76, 54, 64, 15]\n"
     ]
    }
   ],
   "source": [
    "# Your code here\n",
    "sample_list_1 = random.sample(range(100), 80)\n",
    "\n",
    "\n",
    "#Other way\n",
    "#while len(sample_list_1) < 80:\n",
    "    #num = random.randint(0, 100)\n",
    "    #if num not in sample_list_1:\n",
    "        #sample_list_1.append(num)\n",
    "\n",
    "print(sample_list_1)"
   ]
  },
  {
   "cell_type": "markdown",
   "metadata": {},
   "source": [
    "#### Convert `sample_list_1` to a set called `set1`. Print the length of the set. Is its length still 80?"
   ]
  },
  {
   "cell_type": "code",
   "execution_count": 98,
   "metadata": {},
   "outputs": [
    {
     "name": "stdout",
     "output_type": "stream",
     "text": [
      "{0, 1, 2, 3, 4, 5, 6, 8, 9, 10, 11, 12, 15, 16, 17, 18, 23, 24, 25, 26, 27, 28, 29, 31, 34, 35, 36, 38, 39, 40, 41, 42, 43, 44, 45, 46, 49, 50, 51, 53, 54, 55, 56, 57, 58, 59, 60, 61, 62, 63, 64, 66, 67, 68, 69, 70, 71, 72, 73, 74, 75, 76, 77, 78, 79, 80, 81, 84, 86, 87, 88, 90, 91, 92, 93, 94, 96, 97, 98, 99}\n",
      "80\n"
     ]
    }
   ],
   "source": [
    "# Your code here\n",
    "set1 = set(sample_list_1)\n",
    "print(set1)\n",
    "print(len(set1))"
   ]
  },
  {
   "cell_type": "markdown",
   "metadata": {},
   "source": [
    "#### Create another list named `sample_list_2` with 80 random values.\n",
    "\n",
    "Requirements:\n",
    "\n",
    "* Each value is an integer falling between 0 and 100.\n",
    "* The values in the list don't have to be unique.\n",
    "\n",
    "*Hint: Use a FOR loop.*"
   ]
  },
  {
   "cell_type": "code",
   "execution_count": 99,
   "metadata": {},
   "outputs": [
    {
     "name": "stdout",
     "output_type": "stream",
     "text": [
      "[25, 69, 56, 48, 79, 21, 74, 82, 38, 51, 94, 97, 100, 83, 99, 47, 22, 41, 36, 1, 36, 71, 51, 34, 83, 98, 16, 70, 95, 76, 87, 10, 61, 62, 3, 17, 92, 98, 68, 54, 78, 30, 80, 94, 27, 22, 79, 61, 45, 45, 58, 85, 47, 67, 15, 21, 77, 68, 20, 47, 48, 36, 54, 67, 3, 4, 49, 60, 47, 56, 89, 70, 2, 28, 78, 43, 34, 10, 49, 69]\n"
     ]
    }
   ],
   "source": [
    "# Your code here\n",
    "sample_list_2 = []\n",
    "for num in range(80):\n",
    "    num = random.randint(0,100)\n",
    "    sample_list_2.append(num)\n",
    "    \n",
    "print(sample_list_2)"
   ]
  },
  {
   "cell_type": "markdown",
   "metadata": {},
   "source": [
    "#### Convert `sample_list_2` to a set called `set2`. Print the length of the set. Is its length still 80?"
   ]
  },
  {
   "cell_type": "code",
   "execution_count": 100,
   "metadata": {},
   "outputs": [
    {
     "name": "stdout",
     "output_type": "stream",
     "text": [
      "{1, 2, 3, 4, 10, 15, 16, 17, 20, 21, 22, 25, 27, 28, 30, 34, 36, 38, 41, 43, 45, 47, 48, 49, 51, 54, 56, 58, 60, 61, 62, 67, 68, 69, 70, 71, 74, 76, 77, 78, 79, 80, 82, 83, 85, 87, 89, 92, 94, 95, 97, 98, 99, 100}\n",
      "54\n"
     ]
    }
   ],
   "source": [
    "# Your code here\n",
    "set2 = set(sample_list_2)\n",
    "print(set2)\n",
    "print(len(set2))"
   ]
  },
  {
   "cell_type": "markdown",
   "metadata": {},
   "source": [
    "#### Identify the elements present in `set1` but not in `set2`. Assign the elements to a new set named `set3`."
   ]
  },
  {
   "cell_type": "code",
   "execution_count": 101,
   "metadata": {},
   "outputs": [
    {
     "name": "stdout",
     "output_type": "stream",
     "text": [
      "{0, 5, 6, 8, 9, 11, 12, 18, 23, 24, 26, 29, 31, 35, 39, 40, 42, 44, 46, 50, 53, 55, 57, 59, 63, 64, 66, 72, 73, 75, 81, 84, 86, 88, 90, 91, 93, 96}\n"
     ]
    }
   ],
   "source": [
    "# Your code here\n",
    "set3 = set1 - set2\n",
    "\n",
    "#Other way \n",
    "#set3 = set()\n",
    "#for num in set1:\n",
    "    #if num not in set2:\n",
    "        #set3.add(num)\n",
    "        \n",
    "print(set3)\n",
    "        "
   ]
  },
  {
   "cell_type": "markdown",
   "metadata": {},
   "source": [
    "#### Identify the elements present in `set2` but not in `set1`. Assign the elements to a new set named `set4`."
   ]
  },
  {
   "cell_type": "code",
   "execution_count": 102,
   "metadata": {},
   "outputs": [
    {
     "name": "stdout",
     "output_type": "stream",
     "text": [
      "{100, 47, 48, 82, 83, 20, 21, 22, 85, 89, 30, 95}\n"
     ]
    }
   ],
   "source": [
    "# Your code here\n",
    "set4 = set2 - set1\n",
    "\n",
    "#Other way\n",
    "#set4 = set()\n",
    "#for num in set2:\n",
    "    #if num not in set1:\n",
    "        #set4.add(num)\n",
    "        \n",
    "print(set4)"
   ]
  },
  {
   "cell_type": "markdown",
   "metadata": {},
   "source": [
    "#### Now Identify the elements shared between `set1` and `set2`. Assign the elements to a new set named `set5`."
   ]
  },
  {
   "cell_type": "code",
   "execution_count": 103,
   "metadata": {},
   "outputs": [
    {
     "name": "stdout",
     "output_type": "stream",
     "text": [
      "{1, 2, 3, 4, 10, 15, 16, 17, 25, 27, 28, 34, 36, 38, 41, 43, 45, 49, 51, 54, 56, 58, 60, 61, 62, 67, 68, 69, 70, 71, 74, 76, 77, 78, 79, 80, 87, 92, 94, 97, 98, 99}\n"
     ]
    }
   ],
   "source": [
    "# Your code here\n",
    "set5 = set1.intersection(set2)\n",
    "print(set5)"
   ]
  },
  {
   "cell_type": "markdown",
   "metadata": {},
   "source": [
    "#### What is the relationship among the following values:\n",
    "\n",
    "* len(set1)\n",
    "* len(set2)\n",
    "* len(set3)\n",
    "* len(set4)\n",
    "* len(set5)\n",
    "\n",
    "Use a math formular to represent that relationship. Test your formular with Python code."
   ]
  },
  {
   "cell_type": "code",
   "execution_count": 104,
   "metadata": {},
   "outputs": [],
   "source": [
    "# Your code here\n"
   ]
  },
  {
   "cell_type": "markdown",
   "metadata": {},
   "source": [
    "#### Create an empty set called `set6`."
   ]
  },
  {
   "cell_type": "code",
   "execution_count": 105,
   "metadata": {},
   "outputs": [],
   "source": [
    "# Your code here\n",
    "set6 = set()"
   ]
  },
  {
   "cell_type": "markdown",
   "metadata": {},
   "source": [
    "#### Add `set3` and `set5` to `set6` using the Python Set `update` method."
   ]
  },
  {
   "cell_type": "code",
   "execution_count": 106,
   "metadata": {},
   "outputs": [
    {
     "name": "stdout",
     "output_type": "stream",
     "text": [
      "{0, 1, 2, 3, 4, 5, 6, 8, 9, 10, 11, 12, 15, 16, 17, 18, 23, 24, 25, 26, 27, 28, 29, 31, 34, 35, 36, 38, 39, 40, 41, 42, 43, 44, 45, 46, 49, 50, 51, 53, 54, 55, 56, 57, 58, 59, 60, 61, 62, 63, 64, 66, 67, 68, 69, 70, 71, 72, 73, 74, 75, 76, 77, 78, 79, 80, 81, 84, 86, 87, 88, 90, 91, 92, 93, 94, 96, 97, 98, 99}\n"
     ]
    }
   ],
   "source": [
    "# Your code here\n",
    "set6.update(set3, set5)\n",
    "print(set6)"
   ]
  },
  {
   "cell_type": "markdown",
   "metadata": {},
   "source": [
    "#### Check if `set1` and `set6` are equal."
   ]
  },
  {
   "cell_type": "code",
   "execution_count": 107,
   "metadata": {},
   "outputs": [
    {
     "name": "stdout",
     "output_type": "stream",
     "text": [
      "set1 and set6 are equal\n"
     ]
    }
   ],
   "source": [
    "# Your code here\n",
    "if set1 == set6:\n",
    "    print(\"set1 and set6 are equal\")\n",
    "else:\n",
    "    print(\"set1 and set6 are not equal\")"
   ]
  },
  {
   "cell_type": "markdown",
   "metadata": {},
   "source": [
    "#### Check if `set1` contains `set2` using the Python Set `issubset` method. Then check if `set1` contains `set3`.*"
   ]
  },
  {
   "cell_type": "code",
   "execution_count": 108,
   "metadata": {},
   "outputs": [
    {
     "name": "stdout",
     "output_type": "stream",
     "text": [
      "False\n",
      "True\n"
     ]
    }
   ],
   "source": [
    "# Your code here\n",
    "print(set2.issubset(set1))\n",
    "print(set3.issubset(set1))"
   ]
  },
  {
   "cell_type": "markdown",
   "metadata": {},
   "source": [
    "#### Using the Python Set `union` method, aggregate `set3`, `set4`, and `set5`. Then aggregate `set1` and `set2`. \n",
    "\n",
    "#### Check if the aggregated values are equal."
   ]
  },
  {
   "cell_type": "code",
   "execution_count": 109,
   "metadata": {},
   "outputs": [
    {
     "name": "stdout",
     "output_type": "stream",
     "text": [
      "{0, 1, 2, 3, 4, 5, 6, 8, 9, 10, 11, 12, 15, 16, 17, 18, 20, 21, 22, 23, 24, 25, 26, 27, 28, 29, 30, 31, 34, 35, 36, 38, 39, 40, 41, 42, 43, 44, 45, 46, 47, 48, 49, 50, 51, 53, 54, 55, 56, 57, 58, 59, 60, 61, 62, 63, 64, 66, 67, 68, 69, 70, 71, 72, 73, 74, 75, 76, 77, 78, 79, 80, 81, 82, 83, 84, 85, 86, 87, 88, 89, 90, 91, 92, 93, 94, 95, 96, 97, 98, 99, 100}\n",
      "{0, 1, 2, 3, 4, 5, 6, 8, 9, 10, 11, 12, 15, 16, 17, 18, 20, 21, 22, 23, 24, 25, 26, 27, 28, 29, 30, 31, 34, 35, 36, 38, 39, 40, 41, 42, 43, 44, 45, 46, 47, 48, 49, 50, 51, 53, 54, 55, 56, 57, 58, 59, 60, 61, 62, 63, 64, 66, 67, 68, 69, 70, 71, 72, 73, 74, 75, 76, 77, 78, 79, 80, 81, 82, 83, 84, 85, 86, 87, 88, 89, 90, 91, 92, 93, 94, 95, 96, 97, 98, 99, 100}\n",
      "They are equal\n"
     ]
    }
   ],
   "source": [
    "# Your code here\n",
    "agregate1= set3.union(set4, set5)\n",
    "print(agregate1)\n",
    "agregate2= set1.union(set2)\n",
    "print(agregate2)\n",
    "\n",
    "if agregate1 == agregate2:\n",
    "    print(\"They are equal\")\n",
    "else:\n",
    "    print(\"They are not equal\")"
   ]
  },
  {
   "cell_type": "markdown",
   "metadata": {},
   "source": [
    "#### Using the `pop` method, remove the first element from `set1`."
   ]
  },
  {
   "cell_type": "code",
   "execution_count": 110,
   "metadata": {},
   "outputs": [
    {
     "name": "stdout",
     "output_type": "stream",
     "text": [
      "0\n",
      "{1, 2, 3, 4, 5, 6, 8, 9, 10, 11, 12, 15, 16, 17, 18, 23, 24, 25, 26, 27, 28, 29, 31, 34, 35, 36, 38, 39, 40, 41, 42, 43, 44, 45, 46, 49, 50, 51, 53, 54, 55, 56, 57, 58, 59, 60, 61, 62, 63, 64, 66, 67, 68, 69, 70, 71, 72, 73, 74, 75, 76, 77, 78, 79, 80, 81, 84, 86, 87, 88, 90, 91, 92, 93, 94, 96, 97, 98, 99}\n"
     ]
    }
   ],
   "source": [
    "# Your code here\n",
    "print(set1.pop())\n",
    "\n",
    "print(set1)"
   ]
  },
  {
   "cell_type": "markdown",
   "metadata": {},
   "source": [
    "#### Remove every element in the following list from `set1` if they are present in the set. Print the remaining elements.\n",
    "\n",
    "```\n",
    "list_to_remove = [1, 9, 11, 19, 21, 29, 31, 39, 41, 49, 51, 59, 61, 69, 71, 79, 81, 89, 91, 99]\n",
    "```"
   ]
  },
  {
   "cell_type": "code",
   "execution_count": 115,
   "metadata": {
    "scrolled": true
   },
   "outputs": [
    {
     "name": "stdout",
     "output_type": "stream",
     "text": [
      "{1, 2, 3, 4, 5, 6, 8, 9, 10, 11, 12, 15, 16, 17, 18, 23, 24, 25, 26, 27, 28, 29, 31, 34, 35, 36, 38, 39, 40, 41, 42, 43, 44, 45, 46, 49, 50, 51, 53, 54, 55, 56, 57, 58, 59, 60, 61, 62, 63, 64, 66, 67, 68, 69, 70, 71, 72, 73, 74, 75, 76, 77, 78, 79, 80, 81, 84, 86, 87, 88, 90, 91, 92, 93, 94, 96, 97, 98, 99}\n",
      "[9, 19, 21, 31, 41, 51, 61, 71, 81, 89, 99]\n"
     ]
    }
   ],
   "source": [
    "# Your code here\n",
    "print(set1)\n",
    "list_to_remove = [1, 9, 11, 19, 21, 29, 31, 39, 41, 49, 51, 59, 61, 69, 71, 79, 81, 89, 91, 99]\n",
    "for x in list_to_remove:\n",
    "    if x in set1:\n",
    "        list_to_remove.remove(x)\n",
    " \n",
    "        \n",
    "print(list_to_remove)"
   ]
  },
  {
   "cell_type": "code",
   "execution_count": null,
   "metadata": {},
   "outputs": [],
   "source": []
  }
 ],
 "metadata": {
  "kernelspec": {
   "display_name": "Python 3",
   "language": "python",
   "name": "python3"
  },
  "language_info": {
   "codemirror_mode": {
    "name": "ipython",
    "version": 3
   },
   "file_extension": ".py",
   "mimetype": "text/x-python",
   "name": "python",
   "nbconvert_exporter": "python",
   "pygments_lexer": "ipython3",
   "version": "3.8.5"
  }
 },
 "nbformat": 4,
 "nbformat_minor": 2
}
