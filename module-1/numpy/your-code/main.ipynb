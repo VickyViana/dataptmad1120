{
 "cells": [
  {
   "cell_type": "markdown",
   "metadata": {},
   "source": [
    "# Introduction to NumPy\n",
    "\n",
    "\n",
    "#### 1. Import NumPy under the name np."
   ]
  },
  {
   "cell_type": "code",
   "execution_count": 67,
   "metadata": {},
   "outputs": [
    {
     "name": "stdout",
     "output_type": "stream",
     "text": [
      "Requirement already satisfied: numpy in /home/viki/miniconda3/envs/jupyter_env/lib/python3.8/site-packages (1.19.4)\r\n"
     ]
    }
   ],
   "source": [
    "# your code here\n",
    "!pip install numpy\n",
    "import numpy as np"
   ]
  },
  {
   "cell_type": "code",
   "execution_count": 68,
   "metadata": {},
   "outputs": [],
   "source": [
    "#### 2. Print your NumPy version."
   ]
  },
  {
   "cell_type": "code",
   "execution_count": 69,
   "metadata": {
    "scrolled": false
   },
   "outputs": [
    {
     "name": "stdout",
     "output_type": "stream",
     "text": [
      "1.19.4\n"
     ]
    }
   ],
   "source": [
    "# your code here\n",
    "print(np.__version__)"
   ]
  },
  {
   "cell_type": "markdown",
   "metadata": {},
   "source": [
    "#### 3. Generate a 2x3x5 3-dimensional array with random values. Assign the array to variable *a*.\n",
    "**Challenge**: there are at least three easy ways that use numpy to generate random arrays. How many ways can you find?"
   ]
  },
  {
   "cell_type": "code",
   "execution_count": 90,
   "metadata": {},
   "outputs": [],
   "source": [
    "# Method 1\n",
    "a = np.random.random((2,3,5))"
   ]
  },
  {
   "cell_type": "code",
   "execution_count": 89,
   "metadata": {},
   "outputs": [],
   "source": [
    "# Method 2\n",
    "a = np.random.randint(100,size=(2,3,5))"
   ]
  },
  {
   "cell_type": "code",
   "execution_count": 72,
   "metadata": {},
   "outputs": [],
   "source": [
    "# Method 3\n",
    "a = np.random.randn(2,3,5)"
   ]
  },
  {
   "cell_type": "markdown",
   "metadata": {},
   "source": [
    "#### 4. Print *a*.\n"
   ]
  },
  {
   "cell_type": "code",
   "execution_count": 91,
   "metadata": {},
   "outputs": [
    {
     "name": "stdout",
     "output_type": "stream",
     "text": [
      "[[[0.81911366 0.30429859 0.16747165 0.90994618 0.77843452]\n",
      "  [0.78564322 0.28016599 0.35922423 0.16123178 0.82991301]\n",
      "  [0.85432529 0.54953154 0.45260042 0.52193518 0.67342401]]\n",
      "\n",
      " [[0.98831368 0.49608597 0.12878684 0.54073033 0.63928843]\n",
      "  [0.26898109 0.12092087 0.85690371 0.49380182 0.87790852]\n",
      "  [0.11841217 0.74340315 0.55947311 0.75075262 0.48884073]]]\n"
     ]
    }
   ],
   "source": [
    "# your code here\n",
    "print(a)"
   ]
  },
  {
   "cell_type": "markdown",
   "metadata": {},
   "source": [
    "#### 5. Create a 5x2x3 3-dimensional array with all values equaling 1. Assign the array to variable *b*."
   ]
  },
  {
   "cell_type": "code",
   "execution_count": 92,
   "metadata": {},
   "outputs": [],
   "source": [
    "# your code here\n",
    "b = np.ones((5,2,3))"
   ]
  },
  {
   "cell_type": "markdown",
   "metadata": {},
   "source": [
    "#### 6. Print *b*.\n"
   ]
  },
  {
   "cell_type": "code",
   "execution_count": 93,
   "metadata": {},
   "outputs": [
    {
     "name": "stdout",
     "output_type": "stream",
     "text": [
      "[[[1. 1. 1.]\n",
      "  [1. 1. 1.]]\n",
      "\n",
      " [[1. 1. 1.]\n",
      "  [1. 1. 1.]]\n",
      "\n",
      " [[1. 1. 1.]\n",
      "  [1. 1. 1.]]\n",
      "\n",
      " [[1. 1. 1.]\n",
      "  [1. 1. 1.]]\n",
      "\n",
      " [[1. 1. 1.]\n",
      "  [1. 1. 1.]]]\n"
     ]
    }
   ],
   "source": [
    "# your code here\n",
    "print(b)"
   ]
  },
  {
   "cell_type": "markdown",
   "metadata": {},
   "source": [
    "#### 7. Do *a* and *b* have the same size? How do you prove that in Python code?"
   ]
  },
  {
   "cell_type": "code",
   "execution_count": 94,
   "metadata": {},
   "outputs": [
    {
     "name": "stdout",
     "output_type": "stream",
     "text": [
      "True\n"
     ]
    }
   ],
   "source": [
    "# your code here\n",
    "if a.size == b.size:\n",
    "    print(\"True\")"
   ]
  },
  {
   "cell_type": "markdown",
   "metadata": {},
   "source": [
    "#### 8. Are you able to add *a* and *b*? Why or why not?\n"
   ]
  },
  {
   "cell_type": "code",
   "execution_count": 95,
   "metadata": {},
   "outputs": [
    {
     "name": "stdout",
     "output_type": "stream",
     "text": [
      "a and b do not have the same shape\n"
     ]
    }
   ],
   "source": [
    "# your answer here\n",
    "if a.shape != b.shape:\n",
    "    print(\"a and b do not have the same shape\")\n",
    "else:\n",
    "    print(\"a and b have the same shape\")\n",
    "    print(a+b)"
   ]
  },
  {
   "cell_type": "markdown",
   "metadata": {},
   "source": [
    "#### 9. Transpose *b* so that it has the same structure of *a* (i.e. become a 2x3x5 array). Assign the transposed array to variable *c*."
   ]
  },
  {
   "cell_type": "code",
   "execution_count": 96,
   "metadata": {},
   "outputs": [
    {
     "name": "stdout",
     "output_type": "stream",
     "text": [
      "[[[1. 1. 1. 1. 1.]\n",
      "  [1. 1. 1. 1. 1.]\n",
      "  [1. 1. 1. 1. 1.]]\n",
      "\n",
      " [[1. 1. 1. 1. 1.]\n",
      "  [1. 1. 1. 1. 1.]\n",
      "  [1. 1. 1. 1. 1.]]]\n"
     ]
    }
   ],
   "source": [
    "# your code here\n",
    "c = np.reshape(b, (2,3,5))\n",
    "print(c)"
   ]
  },
  {
   "cell_type": "markdown",
   "metadata": {},
   "source": [
    "#### 10. Try to add *a* and *c*. Now it should work. Assign the sum to variable *d*. But why does it work now?"
   ]
  },
  {
   "cell_type": "code",
   "execution_count": 97,
   "metadata": {},
   "outputs": [
    {
     "name": "stdout",
     "output_type": "stream",
     "text": [
      "a and c have the same shape\n",
      "[[[1.81911366 1.30429859 1.16747165 1.90994618 1.77843452]\n",
      "  [1.78564322 1.28016599 1.35922423 1.16123178 1.82991301]\n",
      "  [1.85432529 1.54953154 1.45260042 1.52193518 1.67342401]]\n",
      "\n",
      " [[1.98831368 1.49608597 1.12878684 1.54073033 1.63928843]\n",
      "  [1.26898109 1.12092087 1.85690371 1.49380182 1.87790852]\n",
      "  [1.11841217 1.74340315 1.55947311 1.75075262 1.48884073]]]\n"
     ]
    }
   ],
   "source": [
    "# your code/answer here\n",
    "d = a + c\n",
    "\n",
    "if a.shape != c.shape:\n",
    "    print(\"a and c do not have the same shape\")\n",
    "else:\n",
    "    print(\"a and c have the same shape\")\n",
    "    print(a + c)"
   ]
  },
  {
   "cell_type": "markdown",
   "metadata": {},
   "source": [
    "#### 11. Print *a* and *d*. Notice the difference and relation of the two array in terms of the values? Explain."
   ]
  },
  {
   "cell_type": "code",
   "execution_count": 99,
   "metadata": {},
   "outputs": [
    {
     "name": "stdout",
     "output_type": "stream",
     "text": [
      "[[[0.81911366 0.30429859 0.16747165 0.90994618 0.77843452]\n",
      "  [0.78564322 0.28016599 0.35922423 0.16123178 0.82991301]\n",
      "  [0.85432529 0.54953154 0.45260042 0.52193518 0.67342401]]\n",
      "\n",
      " [[0.98831368 0.49608597 0.12878684 0.54073033 0.63928843]\n",
      "  [0.26898109 0.12092087 0.85690371 0.49380182 0.87790852]\n",
      "  [0.11841217 0.74340315 0.55947311 0.75075262 0.48884073]]]\n",
      "[[[1.81911366 1.30429859 1.16747165 1.90994618 1.77843452]\n",
      "  [1.78564322 1.28016599 1.35922423 1.16123178 1.82991301]\n",
      "  [1.85432529 1.54953154 1.45260042 1.52193518 1.67342401]]\n",
      "\n",
      " [[1.98831368 1.49608597 1.12878684 1.54073033 1.63928843]\n",
      "  [1.26898109 1.12092087 1.85690371 1.49380182 1.87790852]\n",
      "  [1.11841217 1.74340315 1.55947311 1.75075262 1.48884073]]]\n",
      "Values in d are values in a + 1\n"
     ]
    }
   ],
   "source": [
    "# your code/answer here\n",
    "print(a)\n",
    "print(d)\n",
    "print(\"Values in d are values in a + 1\")"
   ]
  },
  {
   "cell_type": "markdown",
   "metadata": {},
   "source": [
    "#### 12. Multiply *a* and *c*. Assign the result to *e*."
   ]
  },
  {
   "cell_type": "code",
   "execution_count": 100,
   "metadata": {
    "scrolled": false
   },
   "outputs": [
    {
     "name": "stdout",
     "output_type": "stream",
     "text": [
      "[[[0.81911366 0.30429859 0.16747165 0.90994618 0.77843452]\n",
      "  [0.78564322 0.28016599 0.35922423 0.16123178 0.82991301]\n",
      "  [0.85432529 0.54953154 0.45260042 0.52193518 0.67342401]]\n",
      "\n",
      " [[0.98831368 0.49608597 0.12878684 0.54073033 0.63928843]\n",
      "  [0.26898109 0.12092087 0.85690371 0.49380182 0.87790852]\n",
      "  [0.11841217 0.74340315 0.55947311 0.75075262 0.48884073]]]\n"
     ]
    }
   ],
   "source": [
    "# your code here\n",
    "e = a * c\n",
    "print(e)"
   ]
  },
  {
   "cell_type": "markdown",
   "metadata": {},
   "source": [
    "#### 13. Does *e* equal to *a*? Why or why not?\n"
   ]
  },
  {
   "cell_type": "code",
   "execution_count": 101,
   "metadata": {},
   "outputs": [
    {
     "name": "stdout",
     "output_type": "stream",
     "text": [
      "Any number multiplied by 1 stays the same\n"
     ]
    }
   ],
   "source": [
    "# your code/answer here\n",
    "if a.all() == e.all():\n",
    "    print(\"Any number multiplied by 1 stays the same\")"
   ]
  },
  {
   "cell_type": "markdown",
   "metadata": {},
   "source": [
    "#### 14. Identify the max, min, and mean values in *d*. Assign those values to variables *d_max*, *d_min* and *d_mean*."
   ]
  },
  {
   "cell_type": "code",
   "execution_count": 102,
   "metadata": {},
   "outputs": [
    {
     "name": "stdout",
     "output_type": "stream",
     "text": [
      "1.9883136797862622\n",
      "1.1184121708934556\n",
      "1.550662076943747\n"
     ]
    }
   ],
   "source": [
    "# your code here\n",
    "d_max = np.amax(d)\n",
    "d_min = np.amin(d)\n",
    "d_mean = np.mean(d)\n",
    "\n",
    "print(d_max)\n",
    "print(d_min)\n",
    "print(d_mean)"
   ]
  },
  {
   "cell_type": "markdown",
   "metadata": {},
   "source": [
    "#### 15. Now we want to label the values in *d*. First create an empty array *f* with the same shape (i.e. 2x3x5) as *d* using `np.empty`.\n"
   ]
  },
  {
   "cell_type": "code",
   "execution_count": 103,
   "metadata": {},
   "outputs": [],
   "source": [
    "# your code here\n",
    "f = np.empty((2,3,5))"
   ]
  },
  {
   "cell_type": "markdown",
   "metadata": {},
   "source": [
    "#### 16. Populate the values in *f*. \n",
    "\n",
    "For each value in *d*, if it's larger than *d_min* but smaller than *d_mean*, assign 25 to the corresponding value in *f*. If a value in *d* is larger than *d_mean* but smaller than *d_max*, assign 75 to the corresponding value in *f*. If a value equals to *d_mean*, assign 50 to the corresponding value in *f*. Assign 0 to the corresponding value(s) in *f* for *d_min* in *d*. Assign 100 to the corresponding value(s) in *f* for *d_max* in *d*. In the end, f should have only the following values: 0, 25, 50, 75, and 100.\n",
    "\n",
    "**Note**: you don't have to use Numpy in this question."
   ]
  },
  {
   "cell_type": "code",
   "execution_count": 104,
   "metadata": {
    "scrolled": false
   },
   "outputs": [
    {
     "name": "stdout",
     "output_type": "stream",
     "text": [
      "[[[ 75.  25.  25.  75.  75.]\n",
      "  [ 75.  25.  25.  25.  75.]\n",
      "  [ 75.  25.  25.  25.  75.]]\n",
      "\n",
      " [[100.  25.  25.  25.  75.]\n",
      "  [ 25.  25.  75.  25.  75.]\n",
      "  [  0.  75.  75.  75.  25.]]]\n"
     ]
    }
   ],
   "source": [
    "# your code here\n",
    "\n",
    "for i in range(len(d)):\n",
    "    for j in range(len(d[i])):\n",
    "        for k in range(len(d[i][j])):\n",
    "           \n",
    "            if d[i][j][k] == d_mean:\n",
    "                f[i][j][k] = 50.0\n",
    "            if d[i][j][k] == d_min:\n",
    "                f[i][j][k] = 0.0\n",
    "            if d[i][j][k] == d_max:\n",
    "                f[i][j][k] = 100.0\n",
    "            if d[i][j][k] > d_min and d[i][j][k] < d_mean:\n",
    "                f[i][j][k] = 25.0\n",
    "            if d[i][j][k] > d_mean and d[i][j][k] < d_max:\n",
    "                f[i][j][k] = 75.0\n",
    "          \n",
    "print(f)\n",
    "    "
   ]
  },
  {
   "cell_type": "markdown",
   "metadata": {},
   "source": [
    "#### 17. Print *d* and *f*. Do you have your expected *f*?\n",
    "For instance, if your *d* is:\n",
    "```python\n",
    "[[[1.85836099, 1.67064465, 1.62576044, 1.40243961, 1.88454931],\n",
    "[1.75354326, 1.69403643, 1.36729252, 1.61415071, 1.12104981],\n",
    "[1.72201435, 1.1862918 , 1.87078449, 1.7726778 , 1.88180042]],\n",
    "[[1.44747908, 1.31673383, 1.02000951, 1.52218947, 1.97066381],\n",
    "[1.79129243, 1.74983003, 1.96028037, 1.85166831, 1.65450881],\n",
    "[1.18068344, 1.9587381 , 1.00656599, 1.93402165, 1.73514584]]]\n",
    "```\n",
    "Your *f* should be:\n",
    "```python\n",
    "[[[ 75.,  75.,  75.,  25.,  75.],\n",
    "[ 75.,  75.,  25.,  25.,  25.],\n",
    "[ 75.,  25.,  75.,  75.,  75.]],\n",
    "[[ 25.,  25.,  25.,  25., 100.],\n",
    "[ 75.,  75.,  75.,  75.,  75.],\n",
    "[ 25.,  75.,   0.,  75.,  75.]]]\n",
    "```"
   ]
  },
  {
   "cell_type": "code",
   "execution_count": 105,
   "metadata": {},
   "outputs": [
    {
     "name": "stdout",
     "output_type": "stream",
     "text": [
      "[[[1.81911366 1.30429859 1.16747165 1.90994618 1.77843452]\n",
      "  [1.78564322 1.28016599 1.35922423 1.16123178 1.82991301]\n",
      "  [1.85432529 1.54953154 1.45260042 1.52193518 1.67342401]]\n",
      "\n",
      " [[1.98831368 1.49608597 1.12878684 1.54073033 1.63928843]\n",
      "  [1.26898109 1.12092087 1.85690371 1.49380182 1.87790852]\n",
      "  [1.11841217 1.74340315 1.55947311 1.75075262 1.48884073]]]\n",
      "[[[ 75.  25.  25.  75.  75.]\n",
      "  [ 75.  25.  25.  25.  75.]\n",
      "  [ 75.  25.  25.  25.  75.]]\n",
      "\n",
      " [[100.  25.  25.  25.  75.]\n",
      "  [ 25.  25.  75.  25.  75.]\n",
      "  [  0.  75.  75.  75.  25.]]]\n"
     ]
    }
   ],
   "source": [
    "# your code here\n",
    "print(d)\n",
    "\n",
    "print(f)"
   ]
  },
  {
   "cell_type": "markdown",
   "metadata": {},
   "source": [
    "#### 18. Bonus question: instead of using numbers (i.e. 0, 25, 50, 75, and 100), use string values  (\"A\", \"B\", \"C\", \"D\", and \"E\") to label the array elements. For the example above, the expected result is:\n",
    "\n",
    "```python\n",
    "[[[ 'D',  'D',  'D',  'B',  'D'],\n",
    "[ 'D',  'D',  'B',  'B',  'B'],\n",
    "[ 'D',  'B',  'D',  'D',  'D']],\n",
    "[[ 'B',  'B',  'B',  'B',  'E'],\n",
    "[ 'D',  'D',  'D',  'D',  'D'],\n",
    "[ 'B',  'D',   'A',  'D', 'D']]]\n",
    "```\n",
    "**Note**: you don't have to use Numpy in this question."
   ]
  },
  {
   "cell_type": "code",
   "execution_count": 129,
   "metadata": {},
   "outputs": [
    {
     "data": {
      "text/plain": [
       "[[['D', 'B', 'B', 'D', 'D'],\n",
       "  ['D', 'B', 'B', 'B', 'D'],\n",
       "  ['D', 'B', 'B', 'B', 'D']],\n",
       " [['E', 'B', 'B', 'B', 'D'],\n",
       "  ['B', 'B', 'D', 'B', 'D'],\n",
       "  ['A', 'D', 'D', 'D', 'B']]]"
      ]
     },
     "execution_count": 129,
     "metadata": {},
     "output_type": "execute_result"
    }
   ],
   "source": [
    "# your code here\n",
    "\n",
    "#A new array \"g\" is created not using np, thus it will not have the type int implicit.\n",
    "    \n",
    "g = [[[[] for p in range(5)] for q in range(3)] for r in range(2)]\n",
    "\n",
    "            \n",
    "for i in range(len(d)):\n",
    "    for j in range(len(d[i])):\n",
    "        for k in range(len(d[i][j])):\n",
    "           \n",
    "            if d[i][j][k] == d_mean:\n",
    "                g[i][j][k] = 'C'\n",
    "            if d[i][j][k] == d_min:\n",
    "                g[i][j][k] = 'A'\n",
    "            if d[i][j][k] == d_max:\n",
    "                g[i][j][k] = 'E'\n",
    "            if d[i][j][k] > d_min and d[i][j][k] < d_mean:\n",
    "                g[i][j][k] = 'B'\n",
    "            if d[i][j][k] > d_mean and d[i][j][k] < d_max:\n",
    "                g[i][j][k] = 'D'\n",
    "                \n",
    "g"
   ]
  },
  {
   "cell_type": "code",
   "execution_count": null,
   "metadata": {},
   "outputs": [],
   "source": []
  }
 ],
 "metadata": {
  "kernelspec": {
   "display_name": "Python 3",
   "language": "python",
   "name": "python3"
  },
  "language_info": {
   "codemirror_mode": {
    "name": "ipython",
    "version": 3
   },
   "file_extension": ".py",
   "mimetype": "text/x-python",
   "name": "python",
   "nbconvert_exporter": "python",
   "pygments_lexer": "ipython3",
   "version": "3.8.5"
  }
 },
 "nbformat": 4,
 "nbformat_minor": 2
}
